{
  "nbformat": 4,
  "nbformat_minor": 0,
  "metadata": {
    "colab": {
      "provenance": [],
      "collapsed_sections": [],
      "authorship_tag": "ABX9TyPoKTZiAE9cddicVdeVpjxw",
      "include_colab_link": true
    },
    "kernelspec": {
      "name": "python3",
      "display_name": "Python 3"
    },
    "language_info": {
      "name": "python"
    }
  },
  "cells": [
    {
      "cell_type": "markdown",
      "metadata": {
        "id": "view-in-github",
        "colab_type": "text"
      },
      "source": [
        "<a href=\"https://colab.research.google.com/github/Samruddhitatiwar/Prims-Algorithm/blob/main/Practical2.ipynb\" target=\"_parent\"><img src=\"https://colab.research.google.com/assets/colab-badge.svg\" alt=\"Open In Colab\"/></a>"
      ]
    },
    {
      "cell_type": "code",
      "execution_count": 3,
      "metadata": {
        "id": "I-op16bNAZxm"
      },
      "outputs": [],
      "source": [
        "from geopy.geocoders import Nominatim"
      ]
    },
    {
      "cell_type": "code",
      "source": [
        "geolocator = Nominatim(user_agent=\"specify_your_app_name_here\")\n",
        "location = geolocator.geocode(\"Nagpur\")\n",
        "print((location.latitude, location.longitude))"
      ],
      "metadata": {
        "id": "3f6EddAsBHYm",
        "colab": {
          "base_uri": "https://localhost:8080/"
        },
        "outputId": "5f9d3b3d-cfc9-45b6-cd62-da03e08c48f5"
      },
      "execution_count": 4,
      "outputs": [
        {
          "output_type": "stream",
          "name": "stdout",
          "text": [
            "(21.1498134, 79.0820556)\n"
          ]
        }
      ]
    },
    {
      "cell_type": "code",
      "source": [
        "location = geolocator.geocode(\"Mumbai\")\n",
        "print((location.latitude, location.longitude))"
      ],
      "metadata": {
        "colab": {
          "base_uri": "https://localhost:8080/"
        },
        "id": "yiJCuGNtBNKn",
        "outputId": "c0f5e38b-c978-4481-f775-7047bfe34caf"
      },
      "execution_count": 5,
      "outputs": [
        {
          "output_type": "stream",
          "name": "stdout",
          "text": [
            "(19.0785451, 72.878176)\n"
          ]
        }
      ]
    },
    {
      "cell_type": "code",
      "source": [
        "location = geolocator.geocode(\"Pune\")\n",
        "print((location.latitude, location.longitude))"
      ],
      "metadata": {
        "colab": {
          "base_uri": "https://localhost:8080/"
        },
        "id": "DShb_ToeBS9G",
        "outputId": "f54bcefa-4661-465d-c7b2-80519af61fb8"
      },
      "execution_count": 6,
      "outputs": [
        {
          "output_type": "stream",
          "name": "stdout",
          "text": [
            "(18.521428, 73.8544541)\n"
          ]
        }
      ]
    },
    {
      "cell_type": "code",
      "source": [
        "location = geolocator.geocode(\"Nashik\")\n",
        "print((location.latitude, location.longitude))"
      ],
      "metadata": {
        "colab": {
          "base_uri": "https://localhost:8080/"
        },
        "id": "kHgx3tHmBX8T",
        "outputId": "8da9a487-88ba-460e-f2a3-2975405e44f0"
      },
      "execution_count": 7,
      "outputs": [
        {
          "output_type": "stream",
          "name": "stdout",
          "text": [
            "(20.0112475, 73.7902364)\n"
          ]
        }
      ]
    },
    {
      "cell_type": "code",
      "source": [
        "location = geolocator.geocode(\"Thane\")\n",
        "print((location.latitude, location.longitude))"
      ],
      "metadata": {
        "colab": {
          "base_uri": "https://localhost:8080/"
        },
        "id": "fnAaBX3GBcBW",
        "outputId": "1f52bf59-4757-4e23-fb61-89d2e6900cd9"
      },
      "execution_count": 8,
      "outputs": [
        {
          "output_type": "stream",
          "name": "stdout",
          "text": [
            "(19.1943294, 72.9701779)\n"
          ]
        }
      ]
    },
    {
      "cell_type": "code",
      "source": [
        "from geopy.distance import geodesic\n",
        "import numpy as np"
      ],
      "metadata": {
        "id": "v1PtUqxvBlpr"
      },
      "execution_count": 9,
      "outputs": []
    },
    {
      "cell_type": "code",
      "source": [
        "Nagpur = (21.1498134, 79.0820556)\n",
        "Mumbai = (19.0785451, 72.878176)\n",
        "Pune= (18.521428, 73.8544541)\n",
        "Nashik = (20.0112475, 73.7902364)\n",
        "Thane = (19.1943294, 72.9701779)\n",
        "places=[Nagpur,Mumbai,Pune,Nashik,Thane]\n",
        "#creating adjacency matrix\n",
        "cost=[]\n",
        "for i in range(5):\n",
        "  col=[]\n",
        "  for j in range(5):\n",
        "    col.append(geodesic(places[i],places[j]).miles)\n",
        "  cost.append(col)\n",
        "  \n",
        "#mat is list of lists i.e cols\n",
        "for i in range(5):\n",
        "    print(cost[i])"
      ],
      "metadata": {
        "colab": {
          "base_uri": "https://localhost:8080/"
        },
        "id": "gSDOlFERBrlL",
        "outputId": "066aa9a6-a83a-42da-c6c5-6d57acc00328"
      },
      "execution_count": 44,
      "outputs": [
        {
          "output_type": "stream",
          "name": "stdout",
          "text": [
            "[0.0, 427.50202366902516, 385.2763086761522, 351.6311760175055, 419.1135964192494]\n",
            "[427.50202366902516, 0.0, 74.550293671268, 87.48224082988976, 9.979747789152853]\n",
            "[385.2763086761522, 74.550293671268, 0.0, 102.55989455322387, 74.1264796790887]\n",
            "[351.6311760175055, 87.48224082988976, 102.55989455322387, 0.0, 77.55690666294466]\n",
            "[419.1135964192494, 9.979747789152853, 74.1264796790887, 77.55690666294466, 0.0]\n"
          ]
        }
      ]
    },
    {
      "cell_type": "code",
      "source": [
        "def minCostEdge(cost,near):\n",
        "  minimum=999\n",
        "  j=0\n",
        "  for i in range(4):\n",
        "    if(near[i]!=-1 and cost[i][near[i]]<minimum):\n",
        "      minimum=cost[i][near[i]]\n",
        "      j=i\n",
        "  return j \n",
        "#finding minimum cost edge\n",
        "mincost=cost[0][1]\n",
        "for j in range(5):\n",
        "  if(cost[i][j]!=0 and cost[i][j]<mincost):\n",
        "    mincost=cost[i][j]\n",
        "    k=i\n",
        "    l=j\n",
        "#making first entry of near array\n",
        "near=[999,999,999,999,999]\n",
        "for i in range (5):\n",
        "  if(i==k or i==l):\n",
        "    near[i]=-1 #selected node\n",
        "  elif(cost[i][k]<cost[i][l]):\n",
        "    near[i]=k\n",
        "  else:\n",
        "    near[i]=l\n",
        "places=['Nagpur','Mumbai','Pune','Nashik','Thane']\n",
        "#making first entry in spanning tree\n",
        "t=[]\n",
        "col=[]\n",
        "col.append(k)\n",
        "col.append(l)\n",
        "col.append(cost[k][l])\n",
        "t.append(col)\n",
        "#making entry in t array\n",
        "for i in range(1,4,1):\n",
        "  j=minCostEdge(cost,near)\n",
        "  col=[]\n",
        "  col.append(j)\n",
        "  col.append(near[j])\n",
        "  col.append(cost[j][near[j]])\n",
        "  t.append(col)\n",
        "  near[j]=-1\n",
        "  for k in range(5):#updating near array\n",
        "    if(near[k]!=-1 and cost[k][near[k]]>cost[k][j]):\n",
        "      near[k]=j\n",
        "sum=0\n",
        "for i in range(4):\n",
        "  sum+=t[i][2]\n",
        "  print(places[t[i][0]],places[t[i][1]],t[i][2])\n",
        "print(\"MINCOST=\",sum)"
      ],
      "metadata": {
        "colab": {
          "base_uri": "https://localhost:8080/"
        },
        "id": "HhMmmv1Cpo3M",
        "outputId": "67cadb92-e462-472b-88af-c497421d2abe"
      },
      "execution_count": 45,
      "outputs": [
        {
          "output_type": "stream",
          "name": "stdout",
          "text": [
            "Thane Mumbai 9.979747789152853\n",
            "Pune Thane 74.1264796790887\n",
            "Nashik Thane 77.55690666294466\n",
            "Nagpur Nashik 351.6311760175055\n",
            "MINCOST= 513.2943101486917\n"
          ]
        }
      ]
    }
  ]
}